{
 "cells": [
  {
   "cell_type": "markdown",
   "id": "a97bde5f-c251-4185-b213-3dd4f5ddcebf",
   "metadata": {},
   "source": [
    "Q.1.Create a function which will take a list as an argument and return the product of all the numbers \n",
    "after creating a flat list.\n",
    "Use the below -given list as an argument for your function\n",
    "list1 =[1,2,3,4[44,55,66,True],False(34,56,78,89,34),{1,2,3,3,2,1},{1:3,\"key 2\":[55,67,78,89],4:(45,22,61,34)},[56,'data science'],'machine learning']\n",
    "Note : you must extract numeric keys and valiues of the dictionary also.\n"
   ]
  },
  {
   "cell_type": "code",
   "execution_count": 6,
   "id": "34cc1732-5444-4077-bf0b-bce459c302d8",
   "metadata": {},
   "outputs": [],
   "source": [
    "l1=[1,2,3,4,[44,55,66,True],False,(34,56,78,89,34),{1,2,3,3,2,1},{1:34,\"key2\":[55,67,78,89],4:(45,22,61,34)},[56,\"data science\"],\"Machine Learning\"]"
   ]
  },
  {
   "cell_type": "code",
   "execution_count": 7,
   "id": "371db806-1217-4215-965f-2f039b88b349",
   "metadata": {},
   "outputs": [
    {
     "data": {
      "text/plain": [
       "[1, 2, 3, 4, 44, 55, 66]"
      ]
     },
     "execution_count": 7,
     "metadata": {},
     "output_type": "execute_result"
    }
   ],
   "source": [
    "l1[0:4]+l1[4][0:3]"
   ]
  },
  {
   "cell_type": "code",
   "execution_count": 8,
   "id": "e1f995b1-95f3-4c49-aa49-b1d11a313c02",
   "metadata": {},
   "outputs": [
    {
     "name": "stdout",
     "output_type": "stream",
     "text": [
      "[34, 56, 78, 89, 34]\n"
     ]
    }
   ],
   "source": [
    "l1[6]=list(l1[6])\n",
    "print(l1[6])"
   ]
  },
  {
   "cell_type": "code",
   "execution_count": 9,
   "id": "a57d52e1-8a44-43af-8030-dde68cabca84",
   "metadata": {},
   "outputs": [
    {
     "data": {
      "text/plain": [
       "[34, 56, 78, 89, 34]"
      ]
     },
     "execution_count": 9,
     "metadata": {},
     "output_type": "execute_result"
    }
   ],
   "source": [
    "l1[6]"
   ]
  },
  {
   "cell_type": "code",
   "execution_count": 10,
   "id": "8dd1dc49-c5e0-44ba-bfce-55fce63d48c3",
   "metadata": {},
   "outputs": [
    {
     "data": {
      "text/plain": [
       "dict_values([34, [55, 67, 78, 89], (45, 22, 61, 34)])"
      ]
     },
     "execution_count": 10,
     "metadata": {},
     "output_type": "execute_result"
    }
   ],
   "source": [
    "l1[8].values()"
   ]
  },
  {
   "cell_type": "code",
   "execution_count": 11,
   "id": "b9c904e3-fa40-4976-9b3e-84e4ee876887",
   "metadata": {},
   "outputs": [
    {
     "name": "stdout",
     "output_type": "stream",
     "text": [
      "[34, [55, 67, 78, 89], (45, 22, 61, 34)]\n"
     ]
    }
   ],
   "source": [
    "l1[8]=list(l1[8].values())\n",
    "print(l1[8])"
   ]
  },
  {
   "cell_type": "code",
   "execution_count": 12,
   "id": "b4e3db77-325d-463e-9638-d31df056fd5e",
   "metadata": {},
   "outputs": [
    {
     "data": {
      "text/plain": [
       "[34, [55, 67, 78, 89], (45, 22, 61, 34)]"
      ]
     },
     "execution_count": 12,
     "metadata": {},
     "output_type": "execute_result"
    }
   ],
   "source": [
    "l1[8]"
   ]
  },
  {
   "cell_type": "code",
   "execution_count": 13,
   "id": "8c30e10d-65a0-4428-a4db-0d867971c3c7",
   "metadata": {},
   "outputs": [
    {
     "data": {
      "text/plain": [
       "56"
      ]
     },
     "execution_count": 13,
     "metadata": {},
     "output_type": "execute_result"
    }
   ],
   "source": [
    "l1[9][0]"
   ]
  },
  {
   "cell_type": "code",
   "execution_count": null,
   "id": "ce15f9ed-458c-4ee5-aaef-42533d6b9130",
   "metadata": {},
   "outputs": [],
   "source": []
  },
  {
   "cell_type": "code",
   "execution_count": 23,
   "id": "75f3d762-c603-4e59-8d0d-7e7d117e70b6",
   "metadata": {},
   "outputs": [
    {
     "data": {
      "text/plain": [
       "[1,\n",
       " 2,\n",
       " 3,\n",
       " 4,\n",
       " 44,\n",
       " 55,\n",
       " 66,\n",
       " 34,\n",
       " 56,\n",
       " 78,\n",
       " 89,\n",
       " 34,\n",
       " 34,\n",
       " [55, 67, 78, 89],\n",
       " (45, 22, 61, 34)]"
      ]
     },
     "execution_count": 23,
     "metadata": {},
     "output_type": "execute_result"
    }
   ],
   "source": [
    "l1[0:4]+l1[4][0:3]+l1[6]+l1[8]"
   ]
  },
  {
   "cell_type": "code",
   "execution_count": 14,
   "id": "1e153441-b3f8-4373-8c8d-693bc15b3e9f",
   "metadata": {},
   "outputs": [
    {
     "name": "stdout",
     "output_type": "stream",
     "text": [
      "[1, 2, 3, 4, 44, 55, 66, 34, 56, 78, 89, 34, 34, [55, 67, 78, 89], (45, 22, 61, 34), 56]\n"
     ]
    }
   ],
   "source": [
    "l1=l1[0:4]+l1[4][0:3]+l1[6]+l1[8]\n",
    "l1.append(56)\n",
    "print(l1)"
   ]
  },
  {
   "cell_type": "code",
   "execution_count": 20,
   "id": "5140ff45-bf81-46ed-8ed3-134c996c556c",
   "metadata": {},
   "outputs": [],
   "source": [
    "def test(l1):\n",
    "    l=[]\n",
    "    for i in l1:\n",
    "        if type(i)==list or type (i)==tuple:\n",
    "            for j in i:\n",
    "                l.append(j)\n",
    "        else:\n",
    "            if type (i)==int or type (i)==float:\n",
    "                l.append(i)\n",
    "    return l"
   ]
  },
  {
   "cell_type": "code",
   "execution_count": 26,
   "id": "f1e0c84e-b166-48a3-abcd-2d12e2414782",
   "metadata": {},
   "outputs": [],
   "source": [
    "l=test(l1)"
   ]
  },
  {
   "cell_type": "code",
   "execution_count": 27,
   "id": "024fba7c-9d73-4819-9f58-fc1f40109652",
   "metadata": {},
   "outputs": [
    {
     "data": {
      "text/plain": [
       "[1,\n",
       " 2,\n",
       " 3,\n",
       " 4,\n",
       " 44,\n",
       " 55,\n",
       " 66,\n",
       " 34,\n",
       " 56,\n",
       " 78,\n",
       " 89,\n",
       " 34,\n",
       " 34,\n",
       " 55,\n",
       " 67,\n",
       " 78,\n",
       " 89,\n",
       " 45,\n",
       " 22,\n",
       " 61,\n",
       " 34,\n",
       " 56]"
      ]
     },
     "execution_count": 27,
     "metadata": {},
     "output_type": "execute_result"
    }
   ],
   "source": [
    "l"
   ]
  },
  {
   "cell_type": "code",
   "execution_count": 29,
   "id": "5b85d227-c626-4e15-8ee5-1198c3e23463",
   "metadata": {},
   "outputs": [],
   "source": [
    "from functools import reduce"
   ]
  },
  {
   "cell_type": "code",
   "execution_count": 30,
   "id": "52034bf6-cefc-4833-87e2-2a1fdd559a1e",
   "metadata": {},
   "outputs": [
    {
     "data": {
      "text/plain": [
       "172279659957795228284743385088000"
      ]
     },
     "execution_count": 30,
     "metadata": {},
     "output_type": "execute_result"
    }
   ],
   "source": [
    "reduce(lambda x,y: x*y ,l)"
   ]
  },
  {
   "cell_type": "code",
   "execution_count": null,
   "id": "1610c3e7-7a75-4260-8dc1-cc1c7cc7ade2",
   "metadata": {},
   "outputs": [],
   "source": []
  },
  {
   "cell_type": "markdown",
   "id": "5aa042f8-b3f8-4d20-9a86-4380509eb1b9",
   "metadata": {},
   "source": [
    "Q.2.Write a python program for encrypting a message sent to you by your friend. The logic of encryption should be such that ,for a the output should be z.For b the output should be y.For c the output should be x respectively.Also the white space should be replaced with a doller sign .Keep the punctuatiion marks uncahnged \n"
   ]
  },
  {
   "cell_type": "markdown",
   "id": "44ddccde-0c7a-4118-b544-39494d4f5011",
   "metadata": {},
   "source": [
    "Input sentance: I want to become a data scientist"
   ]
  },
  {
   "cell_type": "markdown",
   "id": "01668ffb-0b25-4bfb-aefa-69f52e12d625",
   "metadata": {},
   "source": [
    "Encript the above input sentance using the program you just created "
   ]
  },
  {
   "cell_type": "markdown",
   "id": "151a3be7-606e-4295-92e9-415a5a57f93e",
   "metadata": {},
   "source": [
    "Note :Convert the given input sentance into lower case before incripting .The final input should be lower case. "
   ]
  },
  {
   "cell_type": "code",
   "execution_count": 31,
   "id": "036a9a0d-31c5-4690-8af6-410c874fb1a0",
   "metadata": {},
   "outputs": [],
   "source": []
  },
  {
   "cell_type": "code",
   "execution_count": 6,
   "id": "81deedee-e343-45ef-9bf4-18ac35dee3f3",
   "metadata": {},
   "outputs": [],
   "source": [
    "def encrypt_message(message):\n",
    "    \n",
    "    encrypted_message =\"\"\n",
    "    for i in message.lower():\n",
    "        if i.isalpha():\n",
    "            encrypted_i = chr(ord('z') - (ord(i) - ord('a')))\n",
    "            encrypted_message = encrypted_message+ encrypted_i\n",
    "        elif i ==' ':\n",
    "            encryped_message =encrypted_message + '$'\n",
    "        else:\n",
    "            encrypted_message = encrypted_message + i\n",
    "    return encrypted_message"
   ]
  },
  {
   "cell_type": "code",
   "execution_count": 7,
   "id": "13a69d44-8192-47ad-a988-b0ff7f40f08c",
   "metadata": {},
   "outputs": [],
   "source": [
    "input_sentance =\"I want to becomr a Data Scientist\""
   ]
  },
  {
   "cell_type": "code",
   "execution_count": 8,
   "id": "27dbc27e-76b6-4d4d-b1a2-e9cc72ae8f91",
   "metadata": {},
   "outputs": [
    {
     "ename": "NameError",
     "evalue": "name 'encrypted_message' is not defined",
     "output_type": "error",
     "traceback": [
      "\u001b[0;31m---------------------------------------------------------------------------\u001b[0m",
      "\u001b[0;31mNameError\u001b[0m                                 Traceback (most recent call last)",
      "Cell \u001b[0;32mIn[8], line 1\u001b[0m\n\u001b[0;32m----> 1\u001b[0m encrypted_sentance \u001b[38;5;241m=\u001b[39m \u001b[43mencrypted_message\u001b[49m(input_sentance)\n\u001b[1;32m      2\u001b[0m \u001b[38;5;28mprint\u001b[39m(encrypted_sentance)\n",
      "\u001b[0;31mNameError\u001b[0m: name 'encrypted_message' is not defined"
     ]
    }
   ],
   "source": [
    "encrypted_sentance = encrypted_message(input_sentance)\n",
    "print(encrypted_sentance)"
   ]
  },
  {
   "cell_type": "code",
   "execution_count": null,
   "id": "904ce3f1-affb-4f41-9754-b0b486e1e199",
   "metadata": {},
   "outputs": [],
   "source": []
  }
 ],
 "metadata": {
  "kernelspec": {
   "display_name": "Python 3 (ipykernel)",
   "language": "python",
   "name": "python3"
  },
  "language_info": {
   "codemirror_mode": {
    "name": "ipython",
    "version": 3
   },
   "file_extension": ".py",
   "mimetype": "text/x-python",
   "name": "python",
   "nbconvert_exporter": "python",
   "pygments_lexer": "ipython3",
   "version": "3.10.8"
  }
 },
 "nbformat": 4,
 "nbformat_minor": 5
}
